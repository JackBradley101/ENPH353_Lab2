{
 "cells": [
  {
   "cell_type": "code",
   "execution_count": 15,
   "id": "2d8a3ae8",
   "metadata": {},
   "outputs": [],
   "source": [
    "import cv2\n",
    "import numpy as np\n",
    "\n",
    "video = cv2.VideoCapture(\"raw_video_feed.mp4\")\n",
    "\n",
    "width = 320\n",
    "height = 240\n",
    "fps = video.get(cv2.CAP_PROP_FPS)\n",
    "\n",
    "fourcc = cv2.VideoWriter_fourcc(*'mp4v')\n",
    "out = cv2.VideoWriter('output.mp4', fourcc, fps, (width, height), isColor=False)"
   ]
  },
  {
   "cell_type": "code",
   "execution_count": 16,
   "id": "df733ac0",
   "metadata": {},
   "outputs": [],
   "source": [
    "def thresh_image(frame):\n",
    "    frame = cv2.resize(frame, (width, height))\n",
    "    gray = cv2.cvtColor(frame, cv2.COLOR_BGR2GRAY)\n",
    "    _, threshed = cv2.threshold(gray, 100, 255, cv2.THRESH_BINARY)\n",
    "    return threshed"
   ]
  },
  {
   "cell_type": "code",
   "execution_count": null,
   "id": "852f5043",
   "metadata": {},
   "outputs": [],
   "source": [
    "def find_dot_coords(frame):\n",
    "    "
   ]
  },
  {
   "cell_type": "code",
   "execution_count": null,
   "id": "e7d45318",
   "metadata": {},
   "outputs": [],
   "source": [
    "def find_middle(row):\n",
    "    "
   ]
  },
  {
   "cell_type": "code",
   "execution_count": 17,
   "id": "479f8d17",
   "metadata": {},
   "outputs": [],
   "source": [
    "while video.isOpened():\n",
    "\n",
    "    ret, frame = video.read()\n",
    "    if not ret:\n",
    "        break\n",
    "\n",
    "    thresholded = thresh_image(frame)\n",
    "    \n",
    "    out.write(frame)\n",
    "\n",
    "\n",
    "video.release()\n",
    "out.release()"
   ]
  }
 ],
 "metadata": {
  "kernelspec": {
   "display_name": "Python 3.10.18 ('ENPH353_Lab2': venv)",
   "language": "python",
   "name": "python3"
  },
  "language_info": {
   "codemirror_mode": {
    "name": "ipython",
    "version": 3
   },
   "file_extension": ".py",
   "mimetype": "text/x-python",
   "name": "python",
   "nbconvert_exporter": "python",
   "pygments_lexer": "ipython3",
   "version": "3.10.18"
  },
  "vscode": {
   "interpreter": {
    "hash": "f9d85fdc6fd52e46846b0f75900130e813f075f860e702b2eb44b258ea254fb6"
   }
  }
 },
 "nbformat": 4,
 "nbformat_minor": 5
}
