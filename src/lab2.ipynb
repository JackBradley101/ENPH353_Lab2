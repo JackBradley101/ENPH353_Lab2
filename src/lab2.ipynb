{
 "cells": [
  {
   "cell_type": "code",
   "execution_count": 1,
   "id": "2d8a3ae8",
   "metadata": {},
   "outputs": [],
   "source": [
    "import cv2\n",
    "import numpy as np\n",
    "\n",
    "video = cv2.VideoCapture(\"raw_video_feed.mp4\")\n",
    "\n",
    "width = 320\n",
    "height = 240\n",
    "fps = video.get(cv2.CAP_PROP_FPS)\n",
    "\n",
    "fourcc = cv2.VideoWriter_fourcc(*'mp4v')\n",
    "out = cv2.VideoWriter('output.mp4', fourcc, fps, (width, height))"
   ]
  },
  {
   "cell_type": "code",
   "execution_count": 2,
   "id": "479f8d17",
   "metadata": {},
   "outputs": [],
   "source": [
    "while video.isOpened():\n",
    "\n",
    "    ret, frame = video.read()\n",
    "    if not ret:\n",
    "        break\n",
    "\n",
    "    ####################################################################\n",
    "    # logic\n",
    "    ####################################################################\n",
    "\n",
    "    out.write(frame)\n",
    "\n",
    "\n",
    "video.release()\n",
    "out.release()"
   ]
  },
  {
   "cell_type": "code",
   "execution_count": 3,
   "id": "1cc0dac2",
   "metadata": {},
   "outputs": [
    {
     "name": "stderr",
     "output_type": "stream",
     "text": [
      "[ WARN:0@5.869] global loadsave.cpp:275 findDecoder imread_('image.jpg'): can't open/read file: check file path/integrity\n",
      "qt.qpa.plugin: Could not find the Qt platform plugin \"wayland\" in \"/home/fizzer/Documents/ENPH_353_Labs/lab2/lib/python3.10/site-packages/cv2/qt/plugins\"\n"
     ]
    },
    {
     "ename": "error",
     "evalue": "OpenCV(4.12.0) /io/opencv/modules/highgui/src/window.cpp:973: error: (-215:Assertion failed) size.width>0 && size.height>0 in function 'imshow'\n",
     "output_type": "error",
     "traceback": [
      "\u001b[0;31m---------------------------------------------------------------------------\u001b[0m",
      "\u001b[0;31merror\u001b[0m                                     Traceback (most recent call last)",
      "Cell \u001b[0;32mIn[3], line 15\u001b[0m\n\u001b[1;32m     12\u001b[0m \tmax_val \u001b[38;5;241m=\u001b[39m cv2\u001b[38;5;241m.\u001b[39mgetTrackbarPos(\u001b[38;5;124m\"\u001b[39m\u001b[38;5;124mMax\u001b[39m\u001b[38;5;124m\"\u001b[39m, \u001b[38;5;124m\"\u001b[39m\u001b[38;5;124mEdges\u001b[39m\u001b[38;5;124m\"\u001b[39m)\n\u001b[1;32m     14\u001b[0m \tedges \u001b[38;5;241m=\u001b[39m cv2\u001b[38;5;241m.\u001b[39mCanny(img, min_val, max_val)\n\u001b[0;32m---> 15\u001b[0m \t\u001b[43mcv2\u001b[49m\u001b[38;5;241;43m.\u001b[39;49m\u001b[43mimshow\u001b[49m\u001b[43m(\u001b[49m\u001b[38;5;124;43m\"\u001b[39;49m\u001b[38;5;124;43mEdges\u001b[39;49m\u001b[38;5;124;43m\"\u001b[39;49m\u001b[43m,\u001b[49m\u001b[43m \u001b[49m\u001b[43medges\u001b[49m\u001b[43m)\u001b[49m\n\u001b[1;32m     17\u001b[0m \t\u001b[38;5;28;01mif\u001b[39;00m cv2\u001b[38;5;241m.\u001b[39mwaitKey(\u001b[38;5;241m1\u001b[39m) \u001b[38;5;241m&\u001b[39m \u001b[38;5;241m0xFF\u001b[39m \u001b[38;5;241m==\u001b[39m \u001b[38;5;241m27\u001b[39m:  \u001b[38;5;66;03m# ESC to quit\u001b[39;00m\n\u001b[1;32m     18\u001b[0m     \t\t\u001b[38;5;28;01mbreak\u001b[39;00m\n",
      "\u001b[0;31merror\u001b[0m: OpenCV(4.12.0) /io/opencv/modules/highgui/src/window.cpp:973: error: (-215:Assertion failed) size.width>0 && size.height>0 in function 'imshow'\n"
     ]
    },
    {
     "ename": "",
     "evalue": "",
     "output_type": "error",
     "traceback": [
      "The Kernel crashed while executing code in the the current cell or a previous cell. Please review the code in the cell(s) to identify a possible cause of the failure. Click <a href='https://aka.ms/vscodeJupyterKernelCrash'>here</a> for more info. View Jupyter <a href='command:jupyter.viewOutput'>log</a> for further details."
     ]
    }
   ],
   "source": [
    "def nothing(x):\n",
    "\tpass\n",
    "\n",
    "img = cv2.imread(\"image.jpg\", 0)  # grayscale\n",
    "\n",
    "cv2.namedWindow(\"Edges\")\n",
    "cv2.createTrackbar(\"Min\", \"Edges\", 50, 500, nothing)\n",
    "cv2.createTrackbar(\"Max\", \"Edges\", 150, 500, nothing)\n",
    "\n",
    "while True:\n",
    "\tmin_val = cv2.getTrackbarPos(\"Min\", \"Edges\")\n",
    "\tmax_val = cv2.getTrackbarPos(\"Max\", \"Edges\")\n",
    "\n",
    "\tedges = cv2.Canny(img, min_val, max_val)\n",
    "\tcv2.imshow(\"Edges\", edges)\n",
    "\n",
    "\tif cv2.waitKey(1) & 0xFF == 27:  # ESC to quit\n",
    "    \t\tbreak\n",
    "\n",
    "cv2.destroyAllWindows()\n"
   ]
  }
 ],
 "metadata": {
  "kernelspec": {
   "display_name": "Python 3.10.18 ('lab2': venv)",
   "language": "python",
   "name": "python3"
  },
  "language_info": {
   "codemirror_mode": {
    "name": "ipython",
    "version": 3
   },
   "file_extension": ".py",
   "mimetype": "text/x-python",
   "name": "python",
   "nbconvert_exporter": "python",
   "pygments_lexer": "ipython3",
   "version": "3.10.18"
  },
  "vscode": {
   "interpreter": {
    "hash": "7ff5d29abe268a54c2364cf7343b74be23ded1745aaff3413ce4f312bae7c6fa"
   }
  }
 },
 "nbformat": 4,
 "nbformat_minor": 5
}
